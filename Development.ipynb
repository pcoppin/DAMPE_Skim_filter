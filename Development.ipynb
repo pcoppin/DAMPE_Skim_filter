{
 "cells": [
  {
   "cell_type": "code",
   "execution_count": 1,
   "metadata": {},
   "outputs": [],
   "source": [
    "# Python3 compatibility\n",
    "from __future__ import print_function, division, absolute_import\n",
    "from glob import glob\n",
    "import numpy as np\n",
    "import os\n",
    "home = os.path.expanduser(\"~\")+\"/\"\n",
    "\n",
    "import matplotlib.pyplot as plt\n",
    "\n",
    "# Load DmpSoftware and ROOT\n",
    "from ROOT import gSystem\n",
    "gSystem.Load('libDmpEvent.so')\n",
    "from ROOT import DmpChain\n",
    "from ROOT import TChain"
   ]
  },
  {
   "cell_type": "code",
   "execution_count": 2,
   "metadata": {},
   "outputs": [
    {
     "ename": "IOError",
     "evalue": "'/home/users/c/coppinp/Tools/matplotlib_style' not found in the style library and input is not a valid URL or path; see `style.available` for list of available styles",
     "output_type": "error",
     "traceback": [
      "\u001b[0;31m---------------------------------------------------------------------------\u001b[0m",
      "\u001b[0;31mIOError\u001b[0m                                   Traceback (most recent call last)",
      "\u001b[0;32m<ipython-input-2-ee2da3d531fa>\u001b[0m in \u001b[0;36m<module>\u001b[0;34m()\u001b[0m\n\u001b[0;32m----> 1\u001b[0;31m \u001b[0mplt\u001b[0m\u001b[0;34m.\u001b[0m\u001b[0mstyle\u001b[0m\u001b[0;34m.\u001b[0m\u001b[0muse\u001b[0m\u001b[0;34m(\u001b[0m\u001b[0mhome\u001b[0m\u001b[0;34m+\u001b[0m\u001b[0;34m\"Tools/matplotlib_style\"\u001b[0m\u001b[0;34m)\u001b[0m\u001b[0;34m\u001b[0m\u001b[0m\n\u001b[0m",
      "\u001b[0;32m/home/users/c/coppinp/.local/lib/python2.7/site-packages/matplotlib/style/core.pyc\u001b[0m in \u001b[0;36muse\u001b[0;34m(style)\u001b[0m\n\u001b[1;32m    115\u001b[0m                     \u001b[0;34m\"{!r} not found in the style library and input is not a \"\u001b[0m\u001b[0;34m\u001b[0m\u001b[0m\n\u001b[1;32m    116\u001b[0m                     \u001b[0;34m\"valid URL or path; see `style.available` for list of \"\u001b[0m\u001b[0;34m\u001b[0m\u001b[0m\n\u001b[0;32m--> 117\u001b[0;31m                     \"available styles\".format(style))\n\u001b[0m\u001b[1;32m    118\u001b[0m \u001b[0;34m\u001b[0m\u001b[0m\n\u001b[1;32m    119\u001b[0m \u001b[0;34m\u001b[0m\u001b[0m\n",
      "\u001b[0;31mIOError\u001b[0m: '/home/users/c/coppinp/Tools/matplotlib_style' not found in the style library and input is not a valid URL or path; see `style.available` for list of available styles"
     ]
    }
   ],
   "source": [
    "plt.style.use(home+\"Tools/matplotlib_style\")"
   ]
  },
  {
   "cell_type": "code",
   "execution_count": 3,
   "metadata": {},
   "outputs": [
    {
     "name": "stdout",
     "output_type": "stream",
     "text": [
      "1000\n"
     ]
    },
    {
     "name": "stderr",
     "output_type": "stream",
     "text": [
      "TStreamerInfo::BuildCheck:0: RuntimeWarning: \n",
      "   The StreamerInfo of class DmpRunSimuHeader read from file /dpnc/beegfs/dampe/prod/MC/reco/v6r0p12/allHe4-v6r0p12_10TeV_100TeV-FTFP_BGO_Quenching/allHe4-v6r0p12_10TeV_100TeV-FTFP_BGO_Quenching.noOrb.500005.reco.root\n",
      "   has the same version (=1) as the active class but a different checksum.\n",
      "   You should update the version to ClassDef(DmpRunSimuHeader,2).\n",
      "   Do not try to write objects with the current class definition,\n",
      "   the files will not be readable.\n",
      "\n",
      "TStreamerInfo::CompareContent:0: RuntimeWarning: The following data member of\n",
      "the in-memory layout version 1 of class 'DmpRunSimuHeader' is missing from \n",
      "the on-file layout version 1:\n",
      "   string fHadrPhysList; //\n",
      "TStreamerInfo::CompareContent:0: RuntimeWarning: The following data member of\n",
      "the in-memory layout version 1 of class 'DmpRunSimuHeader' is missing from \n",
      "the on-file layout version 1:\n",
      "   double fCrmcEnergyThresholdGev; //\n",
      "TStreamerInfo::CompareContent:0: RuntimeWarning: The following data member of\n",
      "the in-memory layout version 1 of class 'DmpRunSimuHeader' is missing from \n",
      "the on-file layout version 1:\n",
      "   double fCrmcEnergyThreshold2Gev; //\n"
     ]
    }
   ],
   "source": [
    "Use_data = False\n",
    "if( Use_data ):\n",
    "    infile = \"/dpnc/beegfs/dampe/prod/FM/skim/6.0.0/v2/2018/03/01_data_100_500.root\"\n",
    "    infile = home + \"data_file_3.root\"\n",
    "    dc = DmpChain(\"CollectionTree\")\n",
    "    ttt = dc.Add(infile)\n",
    "else:\n",
    "    infile = \"/dpnc/beegfs/dampe/prod/MC/reco/v6r0p12/allHe4-v6r0p12_10TeV_100TeV-FTFP_BGO_Quenching/allHe4-v6r0p12_10TeV_100TeV-FTFP_BGO_Quenching.noOrb.500005.reco.root\"\n",
    "    dc = DmpChain(\"CollectionTree\")\n",
    "    ttt = dc.Add(infile)\n",
    "\n",
    "nevents = dc.GetEntries()\n",
    "print(nevents)"
   ]
  },
  {
   "cell_type": "code",
   "execution_count": 4,
   "metadata": {},
   "outputs": [],
   "source": [
    "skim = np.zeros(nevents, dtype=np.bool)\n",
    "for i in range(nevents):\n",
    "    ev = dc.GetDmpEvent(i)\n",
    "\n",
    "    # 1: BGO reconstructed energy greater than 20 GeV\n",
    "    BGOrec = ev.pEvtBgoRec()\n",
    "    BGO_TotalE = BGOrec.GetTotalEnergy() # [MeV]\n",
    "    if( BGO_TotalE<2e4 ):\n",
    "        continue\n",
    "\n",
    "    # 2: rMaxELayer cut\n",
    "    BGO_MaxELayer = max( [BGOrec.GetELayer(j) for j in range(14)] )\n",
    "    ratio = BGO_MaxELayer/BGO_TotalE\n",
    "    if( ratio>0.35 ):\n",
    "        continue\n",
    "\n",
    "    # 3: iBarMaxE cut\n",
    "    #   Events where the maximum energy OF A SINGLE HIT is deposited at the edge of the calorimeter?\n",
    "    #   By 1, 2, 3    So how come we skip the first layer of BGO? --> David: Would prob be removed by vertex cut anyway\n",
    "    BGOhits = ev.pEvtBgoHits()\n",
    "    BGO_NHits = BGOhits.GetHittedBarNumber()\n",
    "    BGO_HitE = np.array(BGOhits.fEnergy, dtype=np.float)\n",
    "    BGO_HitBarId = np.array(BGOhits.fGlobalBarID, dtype=np.uint16)\n",
    "\n",
    "    Hit123_maxE = np.zeros(3)\n",
    "    Hit123_BarIdx = -1*np.ones(3)\n",
    "    for j in range(BGO_NHits):\n",
    "        HitE = BGO_HitE[j]\n",
    "        HitLayer = BGOhits.GetLayerID(j)\n",
    "        if( (HitLayer in [1,2,3]) and (HitE>Hit123_maxE[HitLayer-1]) ):\n",
    "            IdxBar = np.divide(BGO_HitBarId[j],2**6)%31\n",
    "            Hit123_maxE[HitLayer-1] = HitE\n",
    "            Hit123_BarIdx[HitLayer-1] = IdxBar\n",
    "    for j in range(3):\n",
    "        if( Hit123_BarIdx[j]<=0 or Hit123_BarIdx[j]==21 ):\n",
    "            continue\n",
    "\n",
    "    # 4 & 5: FullBGO cut (+ shower vertex/direction successfully reconstructed)\n",
    "    BGO_ZTop, BGO_ZBottom = 46, 448\n",
    "    BGO_Slope = [BGOrec.GetSlopeYZ(), BGOrec.GetSlopeXZ()]\n",
    "    BGO_Intercept = [BGOrec.GetInterceptYZ(), BGOrec.GetInterceptXZ()]\n",
    "    if( (BGO_Slope[1]==0 and BGO_Intercept[1]==0) or (BGO_Slope[0]==0 and BGO_Intercept[0]==0) ):\n",
    "        continue\n",
    "    XTop = BGO_Slope[1]*BGO_ZTop + BGO_Intercept[1]\n",
    "    YTop = BGO_Slope[0]*BGO_ZTop + BGO_Intercept[0]\n",
    "    XBottom = BGO_Slope[1]*BGO_ZBottom + BGO_Intercept[1]\n",
    "    YBottom = BGO_Slope[0]*BGO_ZBottom + BGO_Intercept[0]\n",
    "    if( np.any(np.abs([XTop,YTop,XBottom,YBottom])>280) ):\n",
    "        continue\n",
    "\n",
    "    # If we were not stopped by now, set the skim variable to true\n",
    "    skim[i] = True"
   ]
  },
  {
   "cell_type": "code",
   "execution_count": 5,
   "metadata": {},
   "outputs": [
    {
     "name": "stdout",
     "output_type": "stream",
     "text": [
      "Consistency check, are they events in skim selecting that do not pass the filter?\n",
      "\t True\n"
     ]
    }
   ],
   "source": [
    "print( \"Consistency check, are they events in skim selecting that do not pass the filter?\")\n",
    "print(\"\\t\", any( ~skim ))"
   ]
  },
  {
   "cell_type": "code",
   "execution_count": 7,
   "metadata": {},
   "outputs": [
    {
     "data": {
      "text/plain": [
       "(13, 1000)"
      ]
     },
     "execution_count": 7,
     "metadata": {},
     "output_type": "execute_result"
    }
   ],
   "source": [
    "np.sum(skim), len(skim)"
   ]
  },
  {
   "cell_type": "code",
   "execution_count": null,
   "metadata": {},
   "outputs": [],
   "source": []
  },
  {
   "cell_type": "code",
   "execution_count": 4,
   "metadata": {},
   "outputs": [],
   "source": [
    "import ROOT"
   ]
  },
  {
   "cell_type": "code",
   "execution_count": null,
   "metadata": {},
   "outputs": [],
   "source": [
    "ROOT.DmpChain"
   ]
  }
 ],
 "metadata": {
  "kernelspec": {
   "display_name": "Python 2",
   "language": "python",
   "name": "python2"
  },
  "language_info": {
   "codemirror_mode": {
    "name": "ipython",
    "version": 2
   },
   "file_extension": ".py",
   "mimetype": "text/x-python",
   "name": "python",
   "nbconvert_exporter": "python",
   "pygments_lexer": "ipython2",
   "version": "2.7.14"
  }
 },
 "nbformat": 4,
 "nbformat_minor": 2
}
