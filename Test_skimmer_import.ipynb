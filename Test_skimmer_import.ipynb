{
 "cells": [
  {
   "cell_type": "code",
   "execution_count": 1,
   "metadata": {},
   "outputs": [],
   "source": [
    "# Python3 compatibility\n",
    "from __future__ import print_function, division, absolute_import\n",
    "from glob import glob\n",
    "import numpy as np\n",
    "import os\n",
    "home = os.path.expanduser(\"~\")+\"/\"\n",
    "\n",
    "import matplotlib.pyplot as plt\n",
    "\n",
    "# Load DmpSoftware and ROOT\n",
    "from ROOT import gSystem\n",
    "gSystem.Load('libDmpEvent.so')\n",
    "from ROOT import DmpChain\n",
    "#from ROOT import TChain"
   ]
  },
  {
   "cell_type": "code",
   "execution_count": 2,
   "metadata": {},
   "outputs": [],
   "source": [
    "plt.style.use(home+\"bee/Tools/matplotlib_style\")"
   ]
  },
  {
   "cell_type": "code",
   "execution_count": 3,
   "metadata": {},
   "outputs": [
    {
     "name": "stdout",
     "output_type": "stream",
     "text": [
      "2923\n"
     ]
    }
   ],
   "source": [
    "Use_data = True\n",
    "if( Use_data ):\n",
    "    infile = \"/dpnc/beegfs/dampe/prod/FM/skim/6.0.0/v2/2018/03/01_data_025_050.root\"\n",
    "    #infile = home + \"data_file_3.root\"\n",
    "    dc = DmpChain(\"CollectionTree\")\n",
    "    ttt = dc.Add(infile)\n",
    "else:\n",
    "    infile = \"/dpnc/beegfs/dampe/prod/MC/reco/v6r0p12/allHe4-v6r0p12_10TeV_100TeV-FTFP_BGO_Quenching/allHe4-v6r0p12_10TeV_100TeV-FTFP_BGO_Quenching.noOrb.500005.reco.root\"\n",
    "    dc = DmpChain(\"CollectionTree\")\n",
    "    ttt = dc.Add(infile)\n",
    "\n",
    "nevents = dc.GetEntries()\n",
    "print(nevents)"
   ]
  },
  {
   "cell_type": "code",
   "execution_count": 4,
   "metadata": {},
   "outputs": [],
   "source": [
    "import Skimmer"
   ]
  },
  {
   "cell_type": "code",
   "execution_count": 5,
   "metadata": {},
   "outputs": [],
   "source": [
    "skim = Skimmer.SkimmerEv(dc)"
   ]
  },
  {
   "cell_type": "code",
   "execution_count": 6,
   "metadata": {},
   "outputs": [
    {
     "name": "stdout",
     "output_type": "stream",
     "text": [
      "2923\n"
     ]
    },
    {
     "data": {
      "text/plain": [
       "array([ True,  True,  True,  True,  True,  True,  True,  True,  True,\n",
       "        True,  True,  True,  True,  True,  True,  True,  True,  True,\n",
       "        True,  True,  True,  True,  True,  True,  True,  True,  True,\n",
       "        True,  True,  True,  True,  True,  True,  True,  True,  True,\n",
       "        True,  True,  True,  True,  True,  True,  True,  True,  True,\n",
       "        True,  True,  True,  True,  True,  True,  True,  True,  True,\n",
       "        True,  True,  True,  True,  True,  True,  True,  True,  True,\n",
       "        True,  True,  True,  True,  True,  True,  True,  True,  True,\n",
       "        True,  True,  True,  True,  True,  True,  True,  True,  True,\n",
       "        True,  True,  True,  True,  True,  True,  True,  True,  True,\n",
       "        True,  True,  True,  True,  True,  True,  True,  True,  True,\n",
       "        True])"
      ]
     },
     "execution_count": 6,
     "metadata": {},
     "output_type": "execute_result"
    }
   ],
   "source": [
    "print(np.sum(skim))\n",
    "skim[:100]"
   ]
  },
  {
   "cell_type": "code",
   "execution_count": null,
   "metadata": {},
   "outputs": [],
   "source": []
  },
  {
   "cell_type": "code",
   "execution_count": 10,
   "metadata": {},
   "outputs": [
    {
     "data": {
      "text/plain": [
       "<ROOT.MethodProxy at 0x2b375a739150>"
      ]
     },
     "execution_count": 10,
     "metadata": {},
     "output_type": "execute_result"
    }
   ],
   "source": [
    "import ROOT \n",
    "\n",
    "ttt = ROOT.gSystem.Load('libDmpEvent.so')        # Allows us to load ROOT.DmpChain & events (evidently)\n",
    "ttt = ROOT.gSystem.Load('libDmpService.so')      # Allows accessing ROOT.gPsdECor\n",
    "ttt = ROOT.gSystem.Load(\"libDmpKernel.so\")       # Usefull to save, but have not needed these so far\n",
    "ttt = ROOT.gSystem.Load(\"libDmpTool.so\")"
   ]
  },
  {
   "cell_type": "code",
   "execution_count": 12,
   "metadata": {},
   "outputs": [
    {
     "name": "stdout",
     "output_type": "stream",
     "text": [
      "[    0    64   128   192   256   320   384   448   512   576   640   704\n",
      "   768   832   896   960  1024  1088  1152  1216  1344  2048  2112  2176\n",
      "  2240  2304  2368  2432  2496  2560  2624  2688  2752  2816  2880  2944\n",
      "  3008  3072  3136  3200  3264  3328  3392  4096  4160  4224  4288  4352\n",
      "  4416  4480  4544  4608  4672  4736  4800  4864  4928  4992  5120  5184\n",
      "  5248  5312  5376  6144  6208  6272  6336  6400  6464  6528  6592  6656\n",
      "  6720  6784  6848  6912  6976  7040  7104  7168  7232  7296  7360  7424\n",
      "  7488  8192  8256  8320  8384  8448  8512  8576  8640  8704  8768  8832\n",
      "  8896  8960  9024  9088  9152  9216  9280  9344  9408  9472  9536 10240\n",
      " 10304 10368 10432 10496 10560 10624 10688 10752 10816 10880 10944 11008\n",
      " 11072 11136 11200 11264 11328 11392 11456 11520 11584 12288 12352 12416\n",
      " 12480 12544 12608 12672 12736 12800 12864 12928 12992 13056 13120 13184\n",
      " 13248 13312 13376 13440 13504 13568 13632 14336 14400 14464 14528 14592\n",
      " 14656 14720 14784 14848 14912 14976 15040 15104 15168 15232 15296 15360\n",
      " 15424 15488 15552 15616 15680 16384 16448 16512 16576 16640 16704 16768\n",
      " 16832 16896 16960 17024 17088 17152 17216 17280 17344 17408 17472 17536\n",
      " 17600 17728 18432 18496 18560 18624 18688 18752 18816 18880 18944 19008\n",
      " 19072 19136 19200 19264 19328 19392 19456 19520 19584 19648 19712 19776\n",
      " 20480 20544 20608 20672 20736 20800 20864 20928 20992 21056 21120 21184\n",
      " 21248 21312 21376 21440 21504 21568 21632 21696 21760 21824 22528 22592\n",
      " 22656 22720 22784 22848 22912 22976 23040 23104 23168 23232 23296 23360\n",
      " 23424 23488 23552 23616 23680 23744 23808 23872 24576 24640 24704 24768\n",
      " 24832 24896 24960 25024 25088 25152 25216 25280 25344 25408 25472 25536\n",
      " 25600 25664 25728 25792 25856 25920 26624 26688 26752 26816 26880 26944\n",
      " 27008 27072 27136 27200 27264 27328 27392 27456 27520 27584 27648 27712\n",
      " 27776 27840 27904 27968]\n"
     ]
    }
   ],
   "source": [
    "nevents = dc.GetEntries()\n",
    "skim = np.zeros(nevents, dtype=np.bool)\n",
    "for i in range(nevents):\n",
    "    ev = dc.GetDmpEvent(i)\n",
    "    BGOhits = ev.pEvtBgoHits()\n",
    "    BGO_HitBarId = np.array(BGOhits.fGlobalBarID, dtype=np.uint16)\n",
    "    \n",
    "    if( len(BGO_HitBarId)>0 ):\n",
    "        print( BGO_HitBarId )\n",
    "        break"
   ]
  },
  {
   "cell_type": "code",
   "execution_count": 26,
   "metadata": {},
   "outputs": [
    {
     "name": "stdout",
     "output_type": "stream",
     "text": [
      "[ 0  1  2  3  4  5  6  7  8  9 10 11 12 13 14 15 16 17 18 19 21  0  1  2\n",
      "  3  4  5  6  7  8  9 10 11 12 13 14 15 16 17 18 19 20 21  0  1  2  3  4\n",
      "  5  6  7  8  9 10 11 12 13 14 16 17 18 19 20  0  1  2  3  4  5  6  7  8\n",
      "  9 10 11 12 13 14 15 16 17 18 19 20 21  0  1  2  3  4  5  6  7  8  9 10\n",
      " 11 12 13 14 15 16 17 18 19 20 21  0  1  2  3  4  5  6  7  8  9 10 11 12\n",
      " 13 14 15 16 17 18 19 20 21  0  1  2  3  4  5  6  7  8  9 10 11 12 13 14\n",
      " 15 16 17 18 19 20 21  0  1  2  3  4  5  6  7  8  9 10 11 12 13 14 15 16\n",
      " 17 18 19 20 21  0  1  2  3  4  5  6  7  8  9 10 11 12 13 14 15 16 17 18\n",
      " 19 21  0  1  2  3  4  5  6  7  8  9 10 11 12 13 14 15 16 17 18 19 20 21\n",
      "  0  1  2  3  4  5  6  7  8  9 10 11 12 13 14 15 16 17 18 19 20 21  0  1\n",
      "  2  3  4  5  6  7  8  9 10 11 12 13 14 15 16 17 18 19 20 21  0  1  2  3\n",
      "  4  5  6  7  8  9 10 11 12 13 14 15 16 17 18 19 20 21  0  1  2  3  4  5\n",
      "  6  7  8  9 10 11 12 13 14 15 16 17 18 19 20 21]\n",
      "[ 0  1  2  3  4  5  6  7  8  9 10 11 12 13 14 15 16 17 18 19 21  0  1  2\n",
      "  3  4  5  6  7  8  9 10 11 12 13 14 15 16 17 18 19 20 21  0  1  2  3  4\n",
      "  5  6  7  8  9 10 11 12 13 14 16 17 18 19 20  0  1  2  3  4  5  6  7  8\n",
      "  9 10 11 12 13 14 15 16 17 18 19 20 21  0  1  2  3  4  5  6  7  8  9 10\n",
      " 11 12 13 14 15 16 17 18 19 20 21  0  1  2  3  4  5  6  7  8  9 10 11 12\n",
      " 13 14 15 16 17 18 19 20 21  0  1  2  3  4  5  6  7  8  9 10 11 12 13 14\n",
      " 15 16 17 18 19 20 21  0  1  2  3  4  5  6  7  8  9 10 11 12 13 14 15 16\n",
      " 17 18 19 20 21  0  1  2  3  4  5  6  7  8  9 10 11 12 13 14 15 16 17 18\n",
      " 19 21  0  1  2  3  4  5  6  7  8  9 10 11 12 13 14 15 16 17 18 19 20 21\n",
      "  0  1  2  3  4  5  6  7  8  9 10 11 12 13 14 15 16 17 18 19 20 21  0  1\n",
      "  2  3  4  5  6  7  8  9 10 11 12 13 14 15 16 17 18 19 20 21  0  1  2  3\n",
      "  4  5  6  7  8  9 10 11 12 13 14 15 16 17 18 19 20 21  0  1  2  3  4  5\n",
      "  6  7  8  9 10 11 12 13 14 15 16 17 18 19 20 21]\n",
      "[ 0  1  2  3  4  5  6  7  8  9 10 11 12 13 14 15 16 17 18 19 21  0  1  2\n",
      "  3  4  5  6  7  8  9 10 11 12 13 14 15 16 17 18 19 20 21  0  1  2  3  4\n",
      "  5  6  7  8  9 10 11 12 13 14 16 17 18 19 20  0  1  2  3  4  5  6  7  8\n",
      "  9 10 11 12 13 14 15 16 17 18 19 20 21  0  1  2  3  4  5  6  7  8  9 10\n",
      " 11 12 13 14 15 16 17 18 19 20 21  0  1  2  3  4  5  6  7  8  9 10 11 12\n",
      " 13 14 15 16 17 18 19 20 21  0  1  2  3  4  5  6  7  8  9 10 11 12 13 14\n",
      " 15 16 17 18 19 20 21  0  1  2  3  4  5  6  7  8  9 10 11 12 13 14 15 16\n",
      " 17 18 19 20 21  0  1  2  3  4  5  6  7  8  9 10 11 12 13 14 15 16 17 18\n",
      " 19 21  0  1  2  3  4  5  6  7  8  9 10 11 12 13 14 15 16 17 18 19 20 21\n",
      "  0  1  2  3  4  5  6  7  8  9 10 11 12 13 14 15 16 17 18 19 20 21  0  1\n",
      "  2  3  4  5  6  7  8  9 10 11 12 13 14 15 16 17 18 19 20 21  0  1  2  3\n",
      "  4  5  6  7  8  9 10 11 12 13 14 15 16 17 18 19 20 21  0  1  2  3  4  5\n",
      "  6  7  8  9 10 11 12 13 14 15 16 17 18 19 20 21]\n"
     ]
    }
   ],
   "source": [
    "IdxBar = np.divide(BGO_HitBarId,2**6)%32\n",
    "IdxBar2 = np.array([ROOT.DmpBgoBase.GetBarID(int(x)) for x in BGO_HitBarId])\n",
    "IdxBar3 = (BGO_HitBarId >> 6) & 0x1f\n",
    "print( IdxBar )\n",
    "print( IdxBar2 )\n",
    "print( IdxBar3 )"
   ]
  },
  {
   "cell_type": "code",
   "execution_count": 29,
   "metadata": {},
   "outputs": [
    {
     "name": "stdout",
     "output_type": "stream",
     "text": [
      "19\n",
      "19\n",
      "19\n"
     ]
    }
   ],
   "source": [
    "j = 25792\n",
    "IdxBar = np.divide(j,2**6)%32\n",
    "print(IdxBar)\n",
    "IdxBar = ROOT.DmpBgoBase.GetBarID(int(j))\n",
    "print(IdxBar)\n",
    "IdxBar = (j >> 6) & 0x1f\n",
    "print(IdxBar)"
   ]
  },
  {
   "cell_type": "code",
   "execution_count": null,
   "metadata": {},
   "outputs": [],
   "source": []
  }
 ],
 "metadata": {
  "kernelspec": {
   "display_name": "Python 2",
   "language": "python",
   "name": "python2"
  },
  "language_info": {
   "codemirror_mode": {
    "name": "ipython",
    "version": 2
   },
   "file_extension": ".py",
   "mimetype": "text/x-python",
   "name": "python",
   "nbconvert_exporter": "python",
   "pygments_lexer": "ipython2",
   "version": "2.7.14"
  }
 },
 "nbformat": 4,
 "nbformat_minor": 2
}
