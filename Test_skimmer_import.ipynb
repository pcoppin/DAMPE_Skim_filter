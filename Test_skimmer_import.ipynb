{
 "cells": [
  {
   "cell_type": "code",
   "execution_count": 1,
   "metadata": {},
   "outputs": [],
   "source": [
    "# Python3 compatibility\n",
    "from __future__ import print_function, division, absolute_import\n",
    "from glob import glob\n",
    "import numpy as np\n",
    "import os\n",
    "home = os.path.expanduser(\"~\")+\"/\"\n",
    "\n",
    "import matplotlib.pyplot as plt\n",
    "\n",
    "# Load DmpSoftware and ROOT\n",
    "from ROOT import gSystem\n",
    "gSystem.Load('libDmpEvent.so')\n",
    "from ROOT import DmpChain\n",
    "#from ROOT import TChain"
   ]
  },
  {
   "cell_type": "code",
   "execution_count": 2,
   "metadata": {},
   "outputs": [],
   "source": [
    "plt.style.use(home+\"Tools/matplotlib_style\")"
   ]
  },
  {
   "cell_type": "code",
   "execution_count": 3,
   "metadata": {},
   "outputs": [
    {
     "name": "stdout",
     "output_type": "stream",
     "text": [
      "1000\n"
     ]
    },
    {
     "name": "stderr",
     "output_type": "stream",
     "text": [
      "TStreamerInfo::BuildCheck:0: RuntimeWarning: \n",
      "   The StreamerInfo of class DmpRunSimuHeader read from file /dpnc/beegfs/dampe/prod/MC/reco/v6r0p12/allHe4-v6r0p12_10TeV_100TeV-FTFP_BGO_Quenching/allHe4-v6r0p12_10TeV_100TeV-FTFP_BGO_Quenching.noOrb.500005.reco.root\n",
      "   has the same version (=1) as the active class but a different checksum.\n",
      "   You should update the version to ClassDef(DmpRunSimuHeader,2).\n",
      "   Do not try to write objects with the current class definition,\n",
      "   the files will not be readable.\n",
      "\n",
      "TStreamerInfo::CompareContent:0: RuntimeWarning: The following data member of\n",
      "the in-memory layout version 1 of class 'DmpRunSimuHeader' is missing from \n",
      "the on-file layout version 1:\n",
      "   string fHadrPhysList; //\n",
      "TStreamerInfo::CompareContent:0: RuntimeWarning: The following data member of\n",
      "the in-memory layout version 1 of class 'DmpRunSimuHeader' is missing from \n",
      "the on-file layout version 1:\n",
      "   double fCrmcEnergyThresholdGev; //\n",
      "TStreamerInfo::CompareContent:0: RuntimeWarning: The following data member of\n",
      "the in-memory layout version 1 of class 'DmpRunSimuHeader' is missing from \n",
      "the on-file layout version 1:\n",
      "   double fCrmcEnergyThreshold2Gev; //\n"
     ]
    }
   ],
   "source": [
    "Use_data = False\n",
    "if( Use_data ):\n",
    "    infile = \"/dpnc/beegfs/dampe/prod/FM/skim/6.0.0/v2/2018/03/01_data_100_500.root\"\n",
    "    #infile = home + \"data_file_3.root\"\n",
    "    dc = DmpChain(\"CollectionTree\")\n",
    "    ttt = dc.Add(infile)\n",
    "else:\n",
    "    infile = \"/dpnc/beegfs/dampe/prod/MC/reco/v6r0p12/allHe4-v6r0p12_10TeV_100TeV-FTFP_BGO_Quenching/allHe4-v6r0p12_10TeV_100TeV-FTFP_BGO_Quenching.noOrb.500005.reco.root\"\n",
    "    dc = DmpChain(\"CollectionTree\")\n",
    "    ttt = dc.Add(infile)\n",
    "\n",
    "nevents = dc.GetEntries()\n",
    "print(nevents)"
   ]
  },
  {
   "cell_type": "code",
   "execution_count": 4,
   "metadata": {},
   "outputs": [],
   "source": [
    "import Skimmer"
   ]
  },
  {
   "cell_type": "code",
   "execution_count": 5,
   "metadata": {},
   "outputs": [],
   "source": [
    "skim = Skimmer.SkimmerEv(dc)"
   ]
  },
  {
   "cell_type": "code",
   "execution_count": 7,
   "metadata": {},
   "outputs": [
    {
     "name": "stdout",
     "output_type": "stream",
     "text": [
      "13\n"
     ]
    },
    {
     "data": {
      "text/plain": [
       "array([False, False, False, False, False, False, False, False, False,\n",
       "       False, False, False, False, False, False, False, False, False,\n",
       "       False, False, False, False, False, False, False, False, False,\n",
       "       False, False, False, False, False, False, False, False, False,\n",
       "       False, False, False, False, False, False, False, False, False,\n",
       "       False, False, False, False, False, False, False, False, False,\n",
       "       False, False, False, False, False, False, False, False, False,\n",
       "       False, False,  True, False, False, False, False, False, False,\n",
       "       False, False, False, False, False, False, False, False, False,\n",
       "       False, False, False, False, False, False, False, False, False,\n",
       "       False, False, False, False,  True, False, False, False, False,\n",
       "       False])"
      ]
     },
     "execution_count": 7,
     "metadata": {},
     "output_type": "execute_result"
    }
   ],
   "source": [
    "print(np.sum(skim))\n",
    "skim[:100]"
   ]
  },
  {
   "cell_type": "code",
   "execution_count": null,
   "metadata": {},
   "outputs": [],
   "source": []
  }
 ],
 "metadata": {
  "kernelspec": {
   "display_name": "Python 2",
   "language": "python",
   "name": "python2"
  },
  "language_info": {
   "codemirror_mode": {
    "name": "ipython",
    "version": 2
   },
   "file_extension": ".py",
   "mimetype": "text/x-python",
   "name": "python",
   "nbconvert_exporter": "python",
   "pygments_lexer": "ipython2",
   "version": "2.7.14"
  }
 },
 "nbformat": 4,
 "nbformat_minor": 2
}
